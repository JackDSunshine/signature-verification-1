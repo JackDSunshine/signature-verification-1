{
 "cells": [
  {
   "cell_type": "code",
   "execution_count": 1,
   "metadata": {
    "collapsed": true
   },
   "outputs": [],
   "source": [
    "def unpack_maybe_tuple(x):\n",
    "    if hasattr(x, '__getitem__'):\n",
    "        return x\n",
    "    return (x, x)"
   ]
  },
  {
   "cell_type": "code",
   "execution_count": 2,
   "metadata": {
    "collapsed": false
   },
   "outputs": [],
   "source": [
    "def out_size(in_size, k, stride=1, pad=0):\n",
    "    in_h, in_w = unpack_maybe_tuple(in_size)\n",
    "    k_h, k_w = unpack_maybe_tuple(k)\n",
    "    s_h, s_w = unpack_maybe_tuple(stride)\n",
    "    p_h, p_w = unpack_maybe_tuple(pad)\n",
    "    out_w = (in_w + 2 * p_w - k_w) / s_w + 1\n",
    "    out_h = (in_h + 2 * p_h - k_h) / s_h + 1\n",
    "    return (out_h, out_w)"
   ]
  },
  {
   "cell_type": "code",
   "execution_count": 3,
   "metadata": {
    "collapsed": true
   },
   "outputs": [],
   "source": [
    "in_size = (96, 192)"
   ]
  },
  {
   "cell_type": "code",
   "execution_count": 4,
   "metadata": {
    "collapsed": false
   },
   "outputs": [
    {
     "name": "stdout",
     "output_type": "stream",
     "text": [
      "(30.0, 62.0)\n"
     ]
    }
   ],
   "source": [
    "c1 = out_size(in_size, 11, stride=3, pad=1)\n",
    "print(c1)"
   ]
  },
  {
   "cell_type": "code",
   "execution_count": 64,
   "metadata": {
    "collapsed": false
   },
   "outputs": [
    {
     "name": "stdout",
     "output_type": "stream",
     "text": [
      "(11.0, 22.0)\n"
     ]
    }
   ],
   "source": [
    "p1 = out_size(c1, (3, 5), stride=2)\n",
    "print(p1)"
   ]
  },
  {
   "cell_type": "code",
   "execution_count": 65,
   "metadata": {
    "collapsed": false,
    "scrolled": true
   },
   "outputs": [
    {
     "name": "stdout",
     "output_type": "stream",
     "text": [
      "(11.0, 11.0)\n"
     ]
    }
   ],
   "source": [
    "c2 = out_size(p1, (1, 2), stride=(1, 2))\n",
    "print(c2)"
   ]
  },
  {
   "cell_type": "code",
   "execution_count": 66,
   "metadata": {
    "collapsed": false
   },
   "outputs": [
    {
     "name": "stdout",
     "output_type": "stream",
     "text": [
      "(5.0, 5.0)\n"
     ]
    }
   ],
   "source": [
    "c3 = out_size(c2, 5, stride=2, pad=1)\n",
    "print(c3)"
   ]
  },
  {
   "cell_type": "code",
   "execution_count": 67,
   "metadata": {
    "collapsed": false
   },
   "outputs": [
    {
     "name": "stdout",
     "output_type": "stream",
     "text": [
      "(3.0, 3.0)\n"
     ]
    }
   ],
   "source": [
    "p3 = out_size(c3, 3, stride=2, pad=1)\n",
    "print(p3)"
   ]
  },
  {
   "cell_type": "code",
   "execution_count": 68,
   "metadata": {
    "collapsed": false
   },
   "outputs": [
    {
     "name": "stdout",
     "output_type": "stream",
     "text": [
      "(3.0, 3.0)\n"
     ]
    }
   ],
   "source": [
    "c4 = out_size(p3, 3, pad=1)\n",
    "print(c4)"
   ]
  },
  {
   "cell_type": "code",
   "execution_count": 69,
   "metadata": {
    "collapsed": false
   },
   "outputs": [
    {
     "name": "stdout",
     "output_type": "stream",
     "text": [
      "(2.0, 2.0)\n"
     ]
    }
   ],
   "source": [
    "c5 = out_size(c4, 3, stride=2, pad=1)\n",
    "print(c5)"
   ]
  },
  {
   "cell_type": "code",
   "execution_count": 70,
   "metadata": {
    "collapsed": false
   },
   "outputs": [
    {
     "name": "stdout",
     "output_type": "stream",
     "text": [
      "(1.0, 1.0)\n"
     ]
    }
   ],
   "source": [
    "c6 = out_size(c5, 2)\n",
    "print(c6)"
   ]
  }
 ],
 "metadata": {
  "kernelspec": {
   "display_name": "Python 3",
   "language": "python",
   "name": "python3"
  },
  "language_info": {
   "codemirror_mode": {
    "name": "ipython",
    "version": 3
   },
   "file_extension": ".py",
   "mimetype": "text/x-python",
   "name": "python",
   "nbconvert_exporter": "python",
   "pygments_lexer": "ipython3",
   "version": "3.5.2"
  }
 },
 "nbformat": 4,
 "nbformat_minor": 0
}
